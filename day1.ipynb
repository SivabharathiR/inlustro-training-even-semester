{
  "nbformat": 4,
  "nbformat_minor": 0,
  "metadata": {
    "colab": {
      "provenance": []
    },
    "kernelspec": {
      "name": "python3",
      "display_name": "Python 3"
    },
    "language_info": {
      "name": "python"
    }
  },
  "cells": [
    {
      "cell_type": "code",
      "execution_count": 2,
      "metadata": {
        "colab": {
          "base_uri": "https://localhost:8080/"
        },
        "id": "OtBE459lc620",
        "outputId": "ffb91ed5-92fb-43c2-fe42-61640e843336"
      },
      "outputs": [
        {
          "output_type": "stream",
          "name": "stdout",
          "text": [
            "Sivabharathi\n",
            "Sivabharathi\n"
          ]
        }
      ],
      "source": [
        "x='Sivabharathi'\n",
        "y='Sivabharathi'\n",
        "print(x)\n",
        "print(y)\n",
        ""
      ]
    },
    {
      "cell_type": "code",
      "source": [
        "a=17\n",
        "b=26\n",
        "print(a+b)"
      ],
      "metadata": {
        "id": "P0sD2nc8e9Je",
        "outputId": "e28b256c-d4e8-461f-c1e6-2bb865fb8fcc",
        "colab": {
          "base_uri": "https://localhost:8080/"
        }
      },
      "execution_count": 3,
      "outputs": [
        {
          "output_type": "stream",
          "name": "stdout",
          "text": [
            "43\n"
          ]
        }
      ]
    },
    {
      "cell_type": "code",
      "source": [
        "price=99.99\n",
        "print(price)"
      ],
      "metadata": {
        "id": "xvf4Kokdfchl",
        "outputId": "c2986b5d-587f-4df6-f2e2-0110a586e91a",
        "colab": {
          "base_uri": "https://localhost:8080/"
        }
      },
      "execution_count": 4,
      "outputs": [
        {
          "output_type": "stream",
          "name": "stdout",
          "text": [
            "99.99\n"
          ]
        }
      ]
    },
    {
      "cell_type": "code",
      "source": [
        "is_vaild=True\n",
        "print(is_vaild)"
      ],
      "metadata": {
        "id": "PpJ3wvzIguTO",
        "outputId": "e096389d-0156-4405-8181-b447d33e2a8c",
        "colab": {
          "base_uri": "https://localhost:8080/"
        }
      },
      "execution_count": 5,
      "outputs": [
        {
          "metadata": {
            "tags": null
          },
          "name": "stdout",
          "output_type": "stream",
          "text": [
            "True\n"
          ]
        }
      ]
    },
    {
      "cell_type": "code",
      "source": [
        "x,y,z=10,20,30\n",
        "print(x,y,z)"
      ],
      "metadata": {
        "id": "cZAxoB9_hKr1",
        "outputId": "1d4fe177-3674-44b8-f102-e9782f9be2f4",
        "colab": {
          "base_uri": "https://localhost:8080/"
        }
      },
      "execution_count": 6,
      "outputs": [
        {
          "metadata": {
            "tags": null
          },
          "name": "stdout",
          "output_type": "stream",
          "text": [
            "10 20 30\n"
          ]
        }
      ]
    },
    {
      "cell_type": "code",
      "source": [
        "p=q=r=100\n",
        "print(p,q,r)"
      ],
      "metadata": {
        "id": "LT5XvCdxhip9",
        "outputId": "995c1591-3ed6-4e98-dd9a-d4dba8ef02b5",
        "colab": {
          "base_uri": "https://localhost:8080/"
        }
      },
      "execution_count": 8,
      "outputs": [
        {
          "output_type": "stream",
          "name": "stdout",
          "text": [
            "100 100 100\n",
            "100 100 100\n"
          ]
        }
      ]
    },
    {
      "cell_type": "code",
      "source": [
        "age=25\n",
        "print(age)\n",
        "age=30\n",
        "print(age)"
      ],
      "metadata": {
        "id": "HIJT7Q51h5Vl",
        "outputId": "34c8b13a-50c3-4ee2-a952-90488e84fb78",
        "colab": {
          "base_uri": "https://localhost:8080/"
        }
      },
      "execution_count": 9,
      "outputs": [
        {
          "output_type": "stream",
          "name": "stdout",
          "text": [
            "25\n",
            "30\n"
          ]
        }
      ]
    },
    {
      "cell_type": "code",
      "source": [
        "value=50\n",
        "del value\n",
        "#print(value)#This will cause an error since value is deleted."
      ],
      "metadata": {
        "id": "bPamkvXlin1G"
      },
      "execution_count": 10,
      "outputs": []
    },
    {
      "cell_type": "code",
      "source": [
        "message=\"hello,World!\"\n",
        "print(len(message))"
      ],
      "metadata": {
        "id": "ZFsw7uRnjgY4",
        "outputId": "5d30f085-fbdb-444b-f6f2-4ee9270561d2",
        "colab": {
          "base_uri": "https://localhost:8080/"
        }
      },
      "execution_count": 13,
      "outputs": [
        {
          "output_type": "stream",
          "name": "stdout",
          "text": [
            "12\n"
          ]
        }
      ]
    },
    {
      "cell_type": "code",
      "source": [
        "data=42\n",
        "print(data)\n",
        "data=str(data)\n",
        "print(data)"
      ],
      "metadata": {
        "id": "JzZ28RP7lGOm",
        "outputId": "1fe74403-d6fa-481d-c412-eb0c5c15f4dd",
        "colab": {
          "base_uri": "https://localhost:8080/"
        }
      },
      "execution_count": 15,
      "outputs": [
        {
          "output_type": "stream",
          "name": "stdout",
          "text": [
            "42\n",
            "42\n"
          ]
        }
      ]
    },
    {
      "cell_type": "code",
      "source": [
        "num=5\n",
        "if num>0:\n",
        " print(\"Positive number\")\n"
      ],
      "metadata": {
        "id": "PCJtjrf_mBp1",
        "outputId": "149fd090-8f81-4973-e051-9d3311d6cd05",
        "colab": {
          "base_uri": "https://localhost:8080/"
        }
      },
      "execution_count": 16,
      "outputs": [
        {
          "output_type": "stream",
          "name": "stdout",
          "text": [
            "Positive number\n"
          ]
        }
      ]
    },
    {
      "cell_type": "code",
      "source": [
        "age=20\n",
        "if age>=18:\n",
        "  print(\"Eligible to vote\")\n",
        "else:\n",
        "    print(\"Not eligible to vote\")"
      ],
      "metadata": {
        "id": "j_ulG28HnxEu",
        "outputId": "7defccf5-c8e5-4225-c21c-64c40c567aed",
        "colab": {
          "base_uri": "https://localhost:8080/"
        }
      },
      "execution_count": 18,
      "outputs": [
        {
          "output_type": "stream",
          "name": "stdout",
          "text": [
            "Eligible to vote\n"
          ]
        }
      ]
    },
    {
      "cell_type": "code",
      "source": [
        "num=-3\n",
        "if num>0:\n",
        "  print(\"Positive\")\n",
        "elif num<0:\n",
        "  print(\"Negative\")\n",
        "else:\n",
        "  print(\"Zero\")"
      ],
      "metadata": {
        "id": "EnASV5pzo3Xv",
        "outputId": "960a3f55-f7fd-4e1c-e854-c55f1ff42a71",
        "colab": {
          "base_uri": "https://localhost:8080/"
        }
      },
      "execution_count": 23,
      "outputs": [
        {
          "metadata": {
            "tags": null
          },
          "name": "stdout",
          "output_type": "stream",
          "text": [
            "Negative\n"
          ]
        }
      ]
    },
    {
      "cell_type": "code",
      "source": [
        "num=7\n",
        "if num>0:\n",
        "  if num%2==0:\n",
        "    print(\"Positive and Even\")"
      ],
      "metadata": {
        "id": "X_ZFjBhZqIJt"
      },
      "execution_count": 26,
      "outputs": []
    },
    {
      "cell_type": "code",
      "source": [
        "x=10\n",
        "if x==10:print(\"Python is cool\")"
      ],
      "metadata": {
        "id": "9kzEofsRrNbO",
        "outputId": "c6460a54-436f-42aa-a151-1192dd853bc6",
        "colab": {
          "base_uri": "https://localhost:8080/"
        }
      },
      "execution_count": 27,
      "outputs": [
        {
          "output_type": "stream",
          "name": "stdout",
          "text": [
            "Python is cool\n"
          ]
        }
      ]
    },
    {
      "cell_type": "code",
      "source": [
        "text=\"love Python programming.\"\n",
        "if\"python\" in text:\n",
        "  print(\"String contains 'Python'\")"
      ],
      "metadata": {
        "id": "KCC55d8_rq4k"
      },
      "execution_count": 29,
      "outputs": []
    },
    {
      "cell_type": "code",
      "source": [
        "num=15\n",
        "if num%3==0 and num%5==0:\n",
        "  print(\"Divisible by both 3 and 5\")\n",
        "else:\n",
        "    print(\"Not divisible by both 3 and 5\")"
      ],
      "metadata": {
        "id": "w8MgwED0s5f9",
        "outputId": "36483e78-76c8-4055-f891-7967f78a9153",
        "colab": {
          "base_uri": "https://localhost:8080/"
        }
      },
      "execution_count": 34,
      "outputs": [
        {
          "metadata": {
            "tags": null
          },
          "name": "stdout",
          "output_type": "stream",
          "text": [
            "Divisible by both 3 and 5\n"
          ]
        }
      ]
    },
    {
      "cell_type": "code",
      "source": [
        "year=2024\n",
        "if(year%4==0 and year%100!=0)or(year%400==0):\n",
        "  print(\"Leap Year\")\n",
        "else:\n",
        "  print(\"Not a Leap year\")"
      ],
      "metadata": {
        "id": "QUjQVtcRt-n-",
        "outputId": "c2090881-d97f-4054-ca1f-bee9ff4992fc",
        "colab": {
          "base_uri": "https://localhost:8080/"
        }
      },
      "execution_count": 38,
      "outputs": [
        {
          "output_type": "stream",
          "name": "stdout",
          "text": [
            "Leap Year\n"
          ]
        }
      ]
    },
    {
      "cell_type": "markdown",
      "source": [],
      "metadata": {
        "id": "qOPy8ab2lGTs"
      }
    }
  ]
}